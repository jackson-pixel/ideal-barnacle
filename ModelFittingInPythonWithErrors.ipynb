{
 "cells": [
  {
   "cell_type": "markdown",
   "metadata": {},
   "source": [
    "Let's consider the problem of fitting some data points to a straight line model\n",
    "\\begin{equation}\n",
    "y = m x + b\n",
    "\\end{equation}\n",
    "Using Python, we have SO MANY ways of doing this fit and getting errors on the derived slope and intercept. \n",
    "\n",
    "0) Since this is a linear model, we have the analytical formula using matrix operations.  Here we calculate the covariance matrix ourselves.\n",
    "\n",
    "1) `numpy.polyfit`.  Again, to get the covariance we expect we have to use a keyword: `cov='unscaled'`\n",
    "\n",
    "2) `scipy.optimize.curve_fit`.  `curve_fit` will return a covariance, but to get the one we think we should get, we need to tell it `absolute_sigma=True`.\n",
    "\n",
    "3) `astropy.modeling`.  To get `astropy` to return a covariance matrix for the parameters, we need to use `fitting.LevMarLSQFitter` (Levenberg-Marquardt least-squares algorithm) and not `fitting.LinearLSQFitter`.  \n",
    "\n",
    "They all give the same answer, and the same (analytical) covariance.  Let's see if we can get this covariance from the data.  We can use any method with multiple simulations to derive a covariance from the data."
   ]
  },
  {
   "cell_type": "code",
   "execution_count": 1,
   "metadata": {},
   "outputs": [],
   "source": [
    "import numpy as np\n",
    "import matplotlib.pyplot as plt\n",
    "from astropy.modeling import models, fitting\n",
    "import scipy.stats as stats\n",
    "from scipy.optimize import curve_fit"
   ]
  },
  {
   "cell_type": "code",
   "execution_count": 2,
   "metadata": {},
   "outputs": [],
   "source": [
    "# define a model for a line (uses astropy models, but not the fitting functions)\n",
    "line_orig = models.Linear1D(slope=1.0, intercept=0.0)\n",
    "\n",
    "# generate x, y data non-uniformly spaced in x\n",
    "# add noise to y measurements\n",
    "npts = 30\n",
    "#np.random.seed(10)\n",
    "x = np.random.uniform(0.0, 10.0, npts)\n",
    "y = line_orig(x)\n",
    "yunc = np.random.normal(0.0, 0.5, npts)\n",
    "y += yunc"
   ]
  },
  {
   "cell_type": "markdown",
   "metadata": {},
   "source": [
    "Below we're going to define a linear fit according to the linear least squares mathematics, with the weight matrix $W$ assumed to be the identity (`np.eye`, get it?) if none is provided.  Note that `np.matmul` is matrix multiplication in the usual way, so\n",
    "\\begin{equation}\n",
    "X^T W X\n",
    "\\end{equation}\n",
    "for example, is written as `np.matmul(X.T, np.matmul(W, X))`.  That is, first multiply $W X$ (order matters!) and then multiply $X^T$ on that product."
   ]
  },
  {
   "cell_type": "code",
   "execution_count": 3,
   "metadata": {},
   "outputs": [],
   "source": [
    "def LinearFit(x, y, W = None):\n",
    "    \n",
    "    if W is None:\n",
    "        W = np.eye(len(x))\n",
    "        \n",
    "    # Make the matrix X.  \n",
    "    # A constant vector, and a vector proportional to the independent variable x\n",
    "    X = np.array([[np.ones_like(x)], [x]]).squeeze().T\n",
    "    Cinv = np.matmul(X.T, np.matmul(W, X))\n",
    "    C = np.linalg.inv(Cinv)\n",
    "    params = np.matmul(C, np.matmul(X.T, np.matmul(W, y)))\n",
    "    return params, C"
   ]
  },
  {
   "cell_type": "code",
   "execution_count": 4,
   "metadata": {},
   "outputs": [
    {
     "name": "stdout",
     "output_type": "stream",
     "text": [
      "Parameters\n",
      "[-0.01888724  1.01067964]\n",
      "Covariance\n",
      "[[ 0.14807692 -0.02457968]\n",
      " [-0.02457968  0.00526531]]\n"
     ]
    }
   ],
   "source": [
    "params, C = LinearFit(x, y)\n",
    "print('Parameters')\n",
    "print(params)\n",
    "print('Covariance')\n",
    "print(C)"
   ]
  },
  {
   "cell_type": "code",
   "execution_count": 5,
   "metadata": {},
   "outputs": [
    {
     "name": "stdout",
     "output_type": "stream",
     "text": [
      "Parameters\n",
      "[ 1.01067964 -0.01888724]\n",
      "Covariance\n",
      "[[ 0.00526531 -0.02457968]\n",
      " [-0.02457968  0.14807692]]\n"
     ]
    }
   ],
   "source": [
    "# Polyfit\n",
    "p, cov = np.polyfit(x, y, 1, cov='unscaled')\n",
    "print('Parameters')\n",
    "print(p)\n",
    "print('Covariance')\n",
    "print(cov)"
   ]
  },
  {
   "cell_type": "code",
   "execution_count": 6,
   "metadata": {},
   "outputs": [
    {
     "name": "stdout",
     "output_type": "stream",
     "text": [
      "Parameters\n",
      "[ 1.01067964 -0.01888723]\n",
      "Covariance\n",
      "[[ 0.00526533 -0.02457976]\n",
      " [-0.02457976  0.14807711]]\n"
     ]
    }
   ],
   "source": [
    "def Line(x, m, b):\n",
    "    return m * x + b\n",
    "\n",
    "params, params_covariance = curve_fit(Line, x, y, p0=[1, 0], absolute_sigma=True)\n",
    "print('Parameters')\n",
    "print(params)\n",
    "print('Covariance')\n",
    "print(params_covariance)"
   ]
  },
  {
   "cell_type": "markdown",
   "metadata": {},
   "source": [
    "The tutorial page for using the `astropy` fitting functions:\n",
    "\n",
    "https://docs.astropy.org/en/stable/modeling/example-fitting-line.html"
   ]
  },
  {
   "cell_type": "code",
   "execution_count": 7,
   "metadata": {},
   "outputs": [],
   "source": [
    "# Use astropy\n",
    "# Initialize a linear fitter\n",
    "fit = fitting.LinearLSQFitter()\n",
    "# initialize a linear model\n",
    "line_init = models.Linear1D()\n",
    "# Initialize the truth\n",
    "line_orig = models.Linear1D(slope=1.0, intercept=0.0)"
   ]
  },
  {
   "cell_type": "code",
   "execution_count": 8,
   "metadata": {},
   "outputs": [
    {
     "name": "stdout",
     "output_type": "stream",
     "text": [
      "Model: Linear1D\n",
      "Inputs: ('x',)\n",
      "Outputs: ('y',)\n",
      "Model set size: 1\n",
      "Parameters:\n",
      "          slope             intercept      \n",
      "    ----------------- ---------------------\n",
      "    1.010679642241815 -0.018887235628364432\n",
      "[[ 0.00115777 -0.00540473]\n",
      " [-0.00540473  0.03256007]]\n"
     ]
    },
    {
     "name": "stderr",
     "output_type": "stream",
     "text": [
      "WARNING: Model is linear in parameters; consider using linear fitting methods. [astropy.modeling.fitting]\n"
     ]
    },
    {
     "data": {
      "image/png": "[encoded data removed]",
      "text/plain": [
       "<Figure size 576x360 with 1 Axes>"
      ]
     },
     "metadata": {
      "needs_background": "light"
     },
     "output_type": "display_data"
    }
   ],
   "source": [
    "# The astropy method\n",
    "# initialize a linear fitter\n",
    "#fit = fitting.LinearLSQFitter() # for some reason, this does not compute a covariance matrix\n",
    "fit = fitting.LevMarLSQFitter()\n",
    "\n",
    "# initialize a linear model\n",
    "line_init = models.Linear1D()\n",
    "\n",
    "# fit the data with the fitter\n",
    "fitted_line = fit(line_init, x, y)\n",
    "\n",
    "print(fitted_line)\n",
    "print(fit.fit_info['param_cov'])\n",
    "\n",
    "# plot\n",
    "plt.figure(figsize=(8,5))\n",
    "plt.plot(x, y, 'ko', label='Data')\n",
    "plt.plot(x, line_orig(x), 'r-', label='Simulation Model')\n",
    "plt.plot(x, fitted_line(x), 'k-', label='Fitted Model')\n",
    "plt.xlabel('x')\n",
    "plt.ylabel('y')\n",
    "plt.legend()\n",
    "plt.show()"
   ]
  },
  {
   "cell_type": "code",
   "execution_count": 9,
   "metadata": {},
   "outputs": [
    {
     "name": "stderr",
     "output_type": "stream",
     "text": [
      "WARNING: Model is linear in parameters; consider using linear fitting methods. [astropy.modeling.fitting]\n"
     ]
    },
    {
     "name": "stdout",
     "output_type": "stream",
     "text": [
      "CPU times: user 25.6 s, sys: 343 ms, total: 25.9 s\n",
      "Wall time: 26.6 s\n"
     ]
    }
   ],
   "source": [
    "%%time\n",
    "# Create many realizations of the noise.\n",
    "Nrlz = 10000\n",
    "npts = 30\n",
    "sigma = 1.0\n",
    "# We have \n",
    "slopes = np.zeros(Nrlz) \n",
    "intercepts = np.zeros(Nrlz)\n",
    "covariances = np.zeros([Nrlz,2,2])\n",
    "for i in np.arange(Nrlz):\n",
    "    # Generate the random x, y positions, values and errors\n",
    "    x = np.random.uniform(0.0, 10.0, npts)\n",
    "    y = line_orig(x) + np.random.normal(0.0, sigma, npts)\n",
    "    \n",
    "    # fit the data with the astropy fitter ... they're all the same\n",
    "    fitted_line = fit(line_init, x, y)\n",
    "    # save the result\n",
    "    slopes[i] = fitted_line.slope.value\n",
    "    intercepts[i] = fitted_line.intercept.value\n",
    "    covariances[i,:,:] = fit.fit_info['param_cov']\n",
    "    \n",
    "empirical_covariance = np.cov((np.array([[slopes], [intercepts]])).squeeze())"
   ]
  },
  {
   "cell_type": "code",
   "execution_count": 10,
   "metadata": {},
   "outputs": [],
   "source": [
    "analytic_covariance = covariances.mean(axis=0)"
   ]
  },
  {
   "cell_type": "code",
   "execution_count": 11,
   "metadata": {},
   "outputs": [
    {
     "data": {
      "image/png": "[encoded data removed]",
      "text/plain": [
       "<Figure size 432x288 with 1 Axes>"
      ]
     },
     "metadata": {
      "needs_background": "light"
     },
     "output_type": "display_data"
    }
   ],
   "source": [
    "m_hist, m_bins, patches = plt.hist(slopes, bins=30, density=True)\n",
    "plt.axvline(1.0, color='red', linestyle='--')\n",
    "plt.plot(m_bins, stats.norm.pdf(m_bins, loc=1., scale=np.sqrt(analytic_covariance[0,0])))\n",
    "plt.show()"
   ]
  },
  {
   "cell_type": "code",
   "execution_count": 12,
   "metadata": {},
   "outputs": [
    {
     "data": {
      "image/png": "[encoded data removed]",
      "text/plain": [
       "<Figure size 432x288 with 1 Axes>"
      ]
     },
     "metadata": {
      "needs_background": "light"
     },
     "output_type": "display_data"
    }
   ],
   "source": [
    "b_hist, b_bins, patches = plt.hist(intercepts, bins=30, density=True)\n",
    "plt.axvline(0.0, color='red', linestyle='--')\n",
    "plt.plot(b_bins, stats.norm.pdf(b_bins, loc=0., scale=np.sqrt(analytic_covariance[1,1])))\n",
    "plt.show()"
   ]
  },
  {
   "cell_type": "code",
   "execution_count": 13,
   "metadata": {},
   "outputs": [
    {
     "name": "stdout",
     "output_type": "stream",
     "text": [
      "Empirical Covariance\n",
      "[[ 0.00415745 -0.02092647]\n",
      " [-0.02092647  0.13871796]]\n",
      "Average of Analytic Covariance\n",
      "[[ 0.00427013 -0.02135882]\n",
      " [-0.02135882  0.1413931 ]]\n"
     ]
    }
   ],
   "source": [
    "print('Empirical Covariance')\n",
    "print(empirical_covariance)\n",
    "print('Average of Analytic Covariance')\n",
    "print(analytic_covariance)"
   ]
  }
 ],
 "metadata": {
  "kernelspec": {
   "display_name": "Python 3",
   "language": "python",
   "name": "python3"
  },
  "language_info": {
   "codemirror_mode": {
    "name": "ipython",
    "version": 3
   },
   "file_extension": ".py",
   "mimetype": "text/x-python",
   "name": "python",
   "nbconvert_exporter": "python",
   "pygments_lexer": "ipython3",
   "version": "3.7.6"
  }
 },
 "nbformat": 4,
 "nbformat_minor": 4
}
