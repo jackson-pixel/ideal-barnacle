{
 "cells": [
  {
   "cell_type": "markdown",
   "metadata": {},
   "source": [
    "Let's consider the problem of fitting some data points to a straight line model\n",
    "\\begin{equation}\n",
    "y = m x + b\n",
    "\\end{equation}\n",
    "Using Python, we have SO MANY ways of doing this fit and getting errors on the derived slope and intercept. \n",
    "\n",
    "0) Since this is a linear model, we have the analytical formula using matrix operations.  Here we calculate the covariance matrix ourselves.\n",
    "\n",
    "1) `numpy.polyfit`.  Again, to get the covariance we expect we have to use a keyword: `cov='unscaled'`\n",
    "\n",
    "2) `scipy.optimize.curve_fit`.  `curve_fit` will return a covariance, but to get the one we think we should get, we need to tell it `absolute_sigma=True`.\n",
    "\n",
    "3) `astropy.modeling`.  To get `astropy` to return a covariance matrix for the parameters, we need to use `fitting.LevMarLSQFitter` (Levenberg-Marquardt least-squares algorithm) and not `fitting.LinearLSQFitter`.  \n",
    "\n",
    "They all give the same answer, and the same (analytical) covariance.  Let's see if we can get this covariance from the data.  We can use any method with multiple simulations to derive a covariance from the data."
   ]
  },
  {
   "cell_type": "code",
   "execution_count": 1,
   "metadata": {},
   "outputs": [],
   "source": [
    "import numpy as np\n",
    "import matplotlib.pyplot as plt\n",
    "from astropy.modeling import models, fitting\n",
    "import scipy.stats as stats\n",
    "from scipy.optimize import curve_fit"
   ]
  },
  {
   "cell_type": "code",
   "execution_count": 30,
   "metadata": {},
   "outputs": [],
   "source": [
    "# A useful function for histograms\n",
    "def BinCenter(edge):\n",
    "    centers = (edge[1:]+edge[0:-1])/2.\n",
    "    return centers"
   ]
  },
  {
   "cell_type": "code",
   "execution_count": 2,
   "metadata": {},
   "outputs": [],
   "source": [
    "# define a model for a line (uses astropy models, but not the fitting functions)\n",
    "m0 = 1.0\n",
    "b0 = 0.0\n",
    "line_orig = models.Linear1D(slope=m0, intercept=b0)\n",
    "\n",
    "# generate x, y data non-uniformly spaced in x\n",
    "# add noise to y measurements\n",
    "npts = 30\n",
    "#np.random.seed(10)\n",
    "x = np.random.uniform(0.0, 10.0, npts)\n",
    "y = line_orig(x)\n",
    "yunc = np.random.normal(0.0, 0.5, npts)\n",
    "y += yunc"
   ]
  },
  {
   "cell_type": "code",
   "execution_count": 3,
   "metadata": {},
   "outputs": [
    {
     "data": {
      "image/png": "[encoded data removed]",
      "text/plain": [
       "<Figure size 432x288 with 1 Axes>"
      ]
     },
     "metadata": {
      "needs_background": "light"
     },
     "output_type": "display_data"
    }
   ],
   "source": [
    "plt.plot(x, y, 'o')\n",
    "plt.plot(x, line_orig(x))\n",
    "plt.show()"
   ]
  },
  {
   "cell_type": "markdown",
   "metadata": {},
   "source": [
    "Below we're going to define a linear fit according to the linear least squares mathematics, with the weight matrix $W$ assumed to be the identity (`np.eye`, get it?) if none is provided.  Note that `np.matmul` is matrix multiplication in the usual way, so\n",
    "\\begin{equation}\n",
    "X^T W X\n",
    "\\end{equation}\n",
    "for example, is written as `np.matmul(X.T, np.matmul(W, X))`.  That is, first multiply $W X$ (order matters!) and then multiply $X^T$ on that product."
   ]
  },
  {
   "cell_type": "code",
   "execution_count": 4,
   "metadata": {},
   "outputs": [],
   "source": [
    "def LinearFit(x, y, W = None):\n",
    "    \n",
    "    if W is None:\n",
    "        W = np.eye(len(x))\n",
    "        \n",
    "    # Make the matrix X.  \n",
    "    # A constant vector, and a vector proportional to the independent variable x\n",
    "    X = np.array([[np.ones_like(x)], [x]]).squeeze().T\n",
    "    Cinv = np.matmul(X.T, np.matmul(W, X))\n",
    "    C = np.linalg.inv(Cinv)\n",
    "    params = np.matmul(C, np.matmul(X.T, np.matmul(W, y)))\n",
    "    return params, C"
   ]
  },
  {
   "cell_type": "code",
   "execution_count": 5,
   "metadata": {},
   "outputs": [
    {
     "name": "stdout",
     "output_type": "stream",
     "text": [
      "Parameters\n",
      "[-0.30139698  1.01698635]\n",
      "Covariance\n",
      "[[ 0.12056624 -0.01803775]\n",
      " [-0.01803775  0.00372979]]\n"
     ]
    }
   ],
   "source": [
    "params, C = LinearFit(x, y)\n",
    "print('Parameters')\n",
    "print(params)\n",
    "print('Covariance')\n",
    "print(C)"
   ]
  },
  {
   "cell_type": "code",
   "execution_count": 6,
   "metadata": {},
   "outputs": [
    {
     "name": "stdout",
     "output_type": "stream",
     "text": [
      "Parameters\n",
      "[ 1.01698635 -0.30139698]\n",
      "Covariance\n",
      "[[ 0.00372979 -0.01803775]\n",
      " [-0.01803775  0.12056624]]\n"
     ]
    }
   ],
   "source": [
    "# Polyfit\n",
    "p, cov = np.polyfit(x, y, 1, cov='unscaled')\n",
    "print('Parameters')\n",
    "print(p)\n",
    "print('Covariance')\n",
    "print(cov)"
   ]
  },
  {
   "cell_type": "code",
   "execution_count": 7,
   "metadata": {},
   "outputs": [
    {
     "name": "stdout",
     "output_type": "stream",
     "text": [
      "Parameters\n",
      "[ 1.01698635 -0.30139697]\n",
      "Covariance\n",
      "[[ 0.00372979 -0.01803774]\n",
      " [-0.01803774  0.12056623]]\n"
     ]
    }
   ],
   "source": [
    "def Line(x, m, b):\n",
    "    return m * x + b\n",
    "\n",
    "params, params_covariance = curve_fit(Line, x, y, p0=[1, 0], absolute_sigma=True)\n",
    "print('Parameters')\n",
    "print(params)\n",
    "print('Covariance')\n",
    "print(params_covariance)"
   ]
  },
  {
   "cell_type": "markdown",
   "metadata": {},
   "source": [
    "The tutorial page for using the `astropy` fitting functions:\n",
    "\n",
    "https://docs.astropy.org/en/stable/modeling/example-fitting-line.html"
   ]
  },
  {
   "cell_type": "code",
   "execution_count": 8,
   "metadata": {},
   "outputs": [],
   "source": [
    "# Use astropy\n",
    "# Initialize a linear fitter\n",
    "fit = fitting.LinearLSQFitter()\n",
    "# initialize a linear model\n",
    "line_init = models.Linear1D()\n",
    "# Initialize the truth\n",
    "line_orig = models.Linear1D(slope=m0, intercept=b0)"
   ]
  },
  {
   "cell_type": "code",
   "execution_count": 9,
   "metadata": {},
   "outputs": [
    {
     "name": "stdout",
     "output_type": "stream",
     "text": [
      "Model: Linear1D\n",
      "Inputs: ('x',)\n",
      "Outputs: ('y',)\n",
      "Model set size: 1\n",
      "Parameters:\n",
      "          slope             intercept     \n",
      "    ------------------ -------------------\n",
      "    1.0169863507933898 -0.3013969812823536\n",
      "[[ 0.00076125 -0.0036815 ]\n",
      " [-0.0036815   0.02460754]]\n"
     ]
    },
    {
     "name": "stderr",
     "output_type": "stream",
     "text": [
      "WARNING: Model is linear in parameters; consider using linear fitting methods. [astropy.modeling.fitting]\n"
     ]
    }
   ],
   "source": [
    "# The astropy method\n",
    "# initialize a linear fitter\n",
    "#fit = fitting.LinearLSQFitter() # for some reason, this does not compute a covariance matrix\n",
    "fit = fitting.LevMarLSQFitter()\n",
    "\n",
    "# initialize a linear model\n",
    "line_init = models.Linear1D(slope=m0, intercept=b0)\n",
    "\n",
    "# fit the data with the fitter\n",
    "fitted_line = fit(line_init, x, y)\n",
    "\n",
    "print(fitted_line)\n",
    "print(fit.fit_info['param_cov'])"
   ]
  },
  {
   "cell_type": "code",
   "execution_count": 10,
   "metadata": {},
   "outputs": [
    {
     "data": {
      "image/png": "[encoded data removed]",
      "text/plain": [
       "<Figure size 576x360 with 1 Axes>"
      ]
     },
     "metadata": {
      "needs_background": "light"
     },
     "output_type": "display_data"
    }
   ],
   "source": [
    "# plot\n",
    "plt.figure(figsize=(8,5))\n",
    "plt.plot(x, y, 'ko', label='Data')\n",
    "plt.plot(x, line_orig(x), 'r-', label='Simulation Model')\n",
    "plt.plot(x, fitted_line(x), 'k-', label='Fitted Model')\n",
    "plt.xlabel('x')\n",
    "plt.ylabel('y')\n",
    "plt.legend()\n",
    "plt.show()"
   ]
  },
  {
   "cell_type": "code",
   "execution_count": 11,
   "metadata": {},
   "outputs": [
    {
     "name": "stderr",
     "output_type": "stream",
     "text": [
      "WARNING: Model is linear in parameters; consider using linear fitting methods. [astropy.modeling.fitting]\n"
     ]
    },
    {
     "name": "stdout",
     "output_type": "stream",
     "text": [
      "CPU times: user 17.7 s, sys: 29.3 ms, total: 17.7 s\n",
      "Wall time: 17.7 s\n"
     ]
    }
   ],
   "source": [
    "%%time\n",
    "# Create many realizations of the random errors (sometimes termed \"noise\").\n",
    "Nrlz = 10000\n",
    "npts = 30\n",
    "sigma = 1.0\n",
    "# We have \n",
    "slopes = np.zeros(Nrlz) \n",
    "intercepts = np.zeros(Nrlz)\n",
    "covariances = np.zeros([Nrlz,2,2])\n",
    "for i in np.arange(Nrlz):\n",
    "    # Generate the random x, y positions, values and errors\n",
    "    x = np.random.uniform(0.0, 10.0, npts)\n",
    "    y = line_orig(x) + np.random.normal(0.0, sigma, npts)\n",
    "    \n",
    "    # fit the data with the astropy fitter ... they're all the same\n",
    "    fitted_line = fit(line_init, x, y)\n",
    "    # save the result\n",
    "    slopes[i] = fitted_line.slope.value\n",
    "    intercepts[i] = fitted_line.intercept.value\n",
    "    covariances[i,:,:] = fit.fit_info['param_cov']"
   ]
  },
  {
   "cell_type": "code",
   "execution_count": 12,
   "metadata": {},
   "outputs": [],
   "source": [
    "empirical_data = (np.array([[slopes], [intercepts]])).squeeze()\n",
    "empirical_covariance = np.cov(empirical_data)\n",
    "empirical_correlation = np.corrcoef(empirical_data)"
   ]
  },
  {
   "cell_type": "markdown",
   "metadata": {},
   "source": [
    "We have a different covariance from each fit, and they are slightly different because we changed the spacing of the x values.  So we have a list that's [Nrlz, 2, 2], so we are literally going to average the matrices over all Nrlz different versions, which we do with the `numpy` command below:"
   ]
  },
  {
   "cell_type": "code",
   "execution_count": 13,
   "metadata": {},
   "outputs": [
    {
     "name": "stdout",
     "output_type": "stream",
     "text": [
      "[[ 0.00426384 -0.0213087 ]\n",
      " [-0.0213087   0.14109685]]\n"
     ]
    }
   ],
   "source": [
    "analytic_covariance = covariances.mean(axis=0)\n",
    "print(analytic_covariance)"
   ]
  },
  {
   "cell_type": "markdown",
   "metadata": {},
   "source": [
    "We can also use the fitted values from our simulations to show the distribution of the fitted slopes and intercepts."
   ]
  },
  {
   "cell_type": "code",
   "execution_count": 14,
   "metadata": {},
   "outputs": [
    {
     "data": {
      "image/png": "[encoded data removed]",
      "text/plain": [
       "<Figure size 432x288 with 1 Axes>"
      ]
     },
     "metadata": {
      "needs_background": "light"
     },
     "output_type": "display_data"
    }
   ],
   "source": [
    "m_hist, m_bins, patches = plt.hist(slopes, bins=30, density=True)\n",
    "plt.axvline(m0, color='red', linestyle='--')\n",
    "plt.plot(m_bins, stats.norm.pdf(m_bins, loc=1., scale=np.sqrt(analytic_covariance[0,0])))\n",
    "plt.xlabel(r'Slope $m$')\n",
    "plt.ylabel(r'$P(m)$')\n",
    "plt.show()"
   ]
  },
  {
   "cell_type": "code",
   "execution_count": 15,
   "metadata": {},
   "outputs": [
    {
     "data": {
      "image/png": "[encoded data removed]",
      "text/plain": [
       "<Figure size 432x288 with 1 Axes>"
      ]
     },
     "metadata": {
      "needs_background": "light"
     },
     "output_type": "display_data"
    }
   ],
   "source": [
    "b_hist, b_bins, patches = plt.hist(intercepts, bins=30, density=True)\n",
    "plt.axvline(b0, color='red', linestyle='--')\n",
    "plt.plot(b_bins, stats.norm.pdf(b_bins, loc=0., scale=np.sqrt(analytic_covariance[1,1])))\n",
    "plt.xlabel(r'Intercept $b$')\n",
    "plt.ylabel(r'$P(b)$')\n",
    "plt.show()"
   ]
  },
  {
   "cell_type": "code",
   "execution_count": 16,
   "metadata": {},
   "outputs": [
    {
     "name": "stdout",
     "output_type": "stream",
     "text": [
      "Empirical Covariance\n",
      "[[ 0.00419498 -0.02087096]\n",
      " [-0.02087096  0.13844619]]\n",
      "Average of Analytic Covariance\n",
      "[[ 0.00426384 -0.0213087 ]\n",
      " [-0.0213087   0.14109685]]\n"
     ]
    }
   ],
   "source": [
    "print('Empirical Covariance')\n",
    "print(empirical_covariance)\n",
    "print('Average of Analytic Covariance')\n",
    "print(analytic_covariance)"
   ]
  },
  {
   "cell_type": "markdown",
   "metadata": {},
   "source": [
    "We can visualize the simulated *variances* as these histograms, but how should we think about the *covariance*?  Well, we can certainly histogram the off-diagonal values that would go into the sum that `np.cov` is computing, namely \n",
    "\\begin{equation}\n",
    "c_i = (b_i - \\bar{b})(m_i - \\bar{m})\n",
    "\\end{equation}\n",
    "This is particularly simple because we only have two parameters."
   ]
  },
  {
   "cell_type": "code",
   "execution_count": 17,
   "metadata": {},
   "outputs": [
    {
     "data": {
      "image/png": "[encoded data removed]",
      "text/plain": [
       "<Figure size 432x288 with 1 Axes>"
      ]
     },
     "metadata": {
      "needs_background": "light"
     },
     "output_type": "display_data"
    }
   ],
   "source": [
    "partial_cov = (intercepts - intercepts.mean())*(slopes - slopes.mean())\n",
    "cov_hist, cov_bins, patches = plt.hist(partial_cov, bins=30, density=True)\n",
    "plt.axvline(analytic_covariance[0,1], color='red', linestyle='--')\n",
    "#plt.plot(b_bins, stats.norm.pdf(b_bins, loc=0., scale=np.sqrt(np.abs(analytic_covariance[0,1])))\n",
    "plt.xlabel(r'Covariance product $(b-\\bar{b})(m-\\bar{m})$')\n",
    "plt.ylabel(r'$P((b-\\bar{b})(m-\\bar{m}))$')\n",
    "plt.show()"
   ]
  },
  {
   "cell_type": "markdown",
   "metadata": {},
   "source": [
    "The average of these products *does* produce the measured covariance, but clearly this is not a Gaussian distribution."
   ]
  },
  {
   "cell_type": "code",
   "execution_count": 18,
   "metadata": {},
   "outputs": [
    {
     "data": {
      "text/plain": [
       "-0.020868869526187446"
      ]
     },
     "execution_count": 18,
     "metadata": {},
     "output_type": "execute_result"
    }
   ],
   "source": [
    "partial_cov.mean()"
   ]
  },
  {
   "cell_type": "markdown",
   "metadata": {},
   "source": [
    "Another way to think about the covariance between the two parameters is just to make a scatter plot of intercept vs. slope:"
   ]
  },
  {
   "cell_type": "code",
   "execution_count": 24,
   "metadata": {},
   "outputs": [
    {
     "data": {
      "image/png": "[encoded data removed]",
      "text/plain": [
       "<Figure size 432x288 with 1 Axes>"
      ]
     },
     "metadata": {
      "needs_background": "light"
     },
     "output_type": "display_data"
    }
   ],
   "source": [
    "plt.plot(slopes, intercepts, '.')\n",
    "plt.axvline(m0, color='red', linestyle='--')\n",
    "plt.axhline(b0, color='red', linestyle='--')\n",
    "plt.ylabel(r'Intercept $b$')\n",
    "plt.xlabel(r'Slope $m$')\n",
    "plt.show()"
   ]
  },
  {
   "cell_type": "markdown",
   "metadata": {},
   "source": [
    "We can thinking of this as measurig the *joint probability* of measuring a given $m$ and $b$.  One thing we can notice is that the probabilities are *correlated* (actually, anti-correlated).  We can see this because if my value of $b<b_0$, my value of $m$ is far more likely to be $m>m_0$ (and vice versa) whereas if the variables were uncorrelated, there would be an equal chance of finding a value of $m < m_0$.  This manifests as a *slope* in the orientation of the ellipse above.  "
   ]
  },
  {
   "cell_type": "code",
   "execution_count": 20,
   "metadata": {},
   "outputs": [
    {
     "data": {
      "text/plain": [
       "array([[ 1.        , -0.86603795],\n",
       "       [-0.86603795,  1.        ]])"
      ]
     },
     "execution_count": 20,
     "metadata": {},
     "output_type": "execute_result"
    }
   ],
   "source": [
    "empirical_correlation"
   ]
  },
  {
   "cell_type": "markdown",
   "metadata": {},
   "source": [
    "The correlation matrix $R$ above is defined as\n",
    "\\begin{equation}\n",
    "R_{ij} = \\frac{C_{ij}}{\\sigma_i \\sigma_j}\n",
    "\\end{equation}\n",
    "where $C_{ij}$ is the covariance matrix and \n",
    "\\begin{equation}\n",
    "\\sigma^2_i \\equiv C_{ii}\n",
    "\\end{equation} \n",
    "We show below how to calculate this using `numpy` tricks:"
   ]
  },
  {
   "cell_type": "code",
   "execution_count": 77,
   "metadata": {},
   "outputs": [
    {
     "name": "stdout",
     "output_type": "stream",
     "text": [
      "[[ 1.         -0.86603795]\n",
      " [-0.86603795  1.        ]]\n"
     ]
    }
   ],
   "source": [
    "# Take the diagonal elements of the covariance and take their square root\n",
    "norm = np.sqrt(np.diag(empirical_covariance))\n",
    "# Use the outer product to compute all the sigma_i sigma_j pairs\n",
    "norm_outer = np.outer(norm, norm)\n",
    "# Then do an element-by-element division\n",
    "print(empirical_covariance/norm_outer)"
   ]
  },
  {
   "cell_type": "markdown",
   "metadata": {},
   "source": [
    "This way of writing things makes it much more apparent that errors on the slope and intercept are highly correlated.  (What would the correlation matrix look like for uncorrelated errors?)\n",
    "\n",
    "The scatter plot clearly shows the slope of the ellipse, which is related to this (anti)-correlation.  One disadvantage of that plot, though, is that its hard to tell how much more likely any given position in the $(m,b)$ plane is.  It would be good to be able to plot the density of points as a contour plot or an intensity image.  To do this, we need to effectively create a 2-D histogram.  We can also add a contour plot on top of the histogram."
   ]
  },
  {
   "cell_type": "code",
   "execution_count": 78,
   "metadata": {},
   "outputs": [],
   "source": [
    "import scipy.ndimage"
   ]
  },
  {
   "cell_type": "code",
   "execution_count": 79,
   "metadata": {},
   "outputs": [],
   "source": [
    "h_mb, x_mb, y_mb = np.histogram2d(slopes, intercepts, bins=30, density=True)\n",
    "# Do some smoothing for the contours\n",
    "smfac = 3\n",
    "h_mb_sm = scipy.ndimage.zoom(h_mb,[smfac, smfac])\n",
    "x_mb_sm = scipy.ndimage.zoom(BinCenter(x_mb),smfac)\n",
    "y_mb_sm = scipy.ndimage.zoom(BinCenter(y_mb),smfac)\n",
    "levels = h_mb_sm.max()*np.linspace(0.2,0.9,num=4)"
   ]
  },
  {
   "cell_type": "code",
   "execution_count": 80,
   "metadata": {},
   "outputs": [
    {
     "data": {
      "image/png": "[encoded data removed]",
      "text/plain": [
       "<Figure size 432x288 with 1 Axes>"
      ]
     },
     "metadata": {
      "needs_background": "light"
     },
     "output_type": "display_data"
    }
   ],
   "source": [
    "_, _, _, _ = plt.hist2d(slopes, intercepts, bins=30, density=True)\n",
    "#plt.contour(BinCenter(x_mb), BinCenter(y_mb), h_mb, colors='white', levels=4)\n",
    "plt.contour(x_mb_sm, y_mb_sm, h_mb_sm, colors='white', levels=levels)\n",
    "plt.axvline(m0, color='cyan', linestyle='--', alpha=0.5)\n",
    "plt.axhline(b0, color='cyan', linestyle='--', alpha=0.5)\n",
    "plt.ylabel(r'Intercept $b$')\n",
    "plt.xlabel(r'Slope $m$')\n",
    "plt.show()"
   ]
  },
  {
   "cell_type": "code",
   "execution_count": null,
   "metadata": {},
   "outputs": [],
   "source": []
  }
 ],
 "metadata": {
  "kernelspec": {
   "display_name": "Python 3",
   "language": "python",
   "name": "python3"
  },
  "language_info": {
   "codemirror_mode": {
    "name": "ipython",
    "version": 3
   },
   "file_extension": ".py",
   "mimetype": "text/x-python",
   "name": "python",
   "nbconvert_exporter": "python",
   "pygments_lexer": "ipython3",
   "version": "3.7.6"
  }
 },
 "nbformat": 4,
 "nbformat_minor": 4
}
