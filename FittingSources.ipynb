{
 "cells": [
  {
   "cell_type": "code",
   "execution_count": 1,
   "metadata": {},
   "outputs": [],
   "source": [
    "import numpy as np\n",
    "import matplotlib.pyplot as plt\n",
    "import scipy.stats as stats\n",
    "from astropy.modeling.functional_models import Gaussian2D\n",
    "from astropy.modeling import models, fitting"
   ]
  },
  {
   "cell_type": "code",
   "execution_count": 2,
   "metadata": {},
   "outputs": [],
   "source": [
    "def BinCenters(bin_edges):\n",
    "    return (bin_edges[1:]+bin_edges[0:-1])/2."
   ]
  },
  {
   "cell_type": "code",
   "execution_count": 3,
   "metadata": {},
   "outputs": [],
   "source": [
    "# We now need to pick a brightness and a level for the random error per pixel\n",
    "brightness = 10.\n",
    "sigma_noise = 0.5 "
   ]
  },
  {
   "cell_type": "code",
   "execution_count": 4,
   "metadata": {},
   "outputs": [],
   "source": [
    "# Let's make an image to hold just one source, with x and y coordinates\n",
    "Npix = 21\n",
    "sigma_source = 3.\n",
    "center = int(Npix/2)\n",
    "x_coord, y_coord = np.meshgrid(np.arange(Npix), np.arange(Npix))"
   ]
  },
  {
   "cell_type": "markdown",
   "metadata": {},
   "source": [
    "Notice that `stats.uniform?` will tell us how to use the keywords to get uniform random variables over an interval, and they want is specified as `loc` = left end point, `scale` = number to add to the left endpoint"
   ]
  },
  {
   "cell_type": "code",
   "execution_count": 5,
   "metadata": {},
   "outputs": [],
   "source": [
    "# Let's constrain the (x,y) position to be toward the center\n",
    "x0 = stats.uniform.rvs(center-4, 8)\n",
    "y0 = stats.uniform.rvs(center-4, 8)\n",
    "#print(x0, y0)\n",
    "\n",
    "# Make the image\n",
    "gaussian = Gaussian2D()\n",
    "signal = gaussian.evaluate(x_coord, y_coord, amplitude=brightness, x_mean=x0, y_mean=y0, \n",
    "                           x_stddev=sigma_source, y_stddev=sigma_source, theta=0)\n",
    "# Make the noise\n",
    "noise = stats.norm.rvs(loc=0, scale=sigma_noise, size = [Npix, Npix])\n",
    "\n",
    "# And the sum (the data)\n",
    "data = signal + noise"
   ]
  },
  {
   "cell_type": "code",
   "execution_count": 6,
   "metadata": {},
   "outputs": [
    {
     "data": {
      "image/png": "[encoded data removed]",
      "text/plain": [
       "<Figure size 1152x360 with 6 Axes>"
      ]
     },
     "metadata": {
      "needs_background": "light"
     },
     "output_type": "display_data"
    }
   ],
   "source": [
    "plt.figure(figsize=(16,5))\n",
    "plt.subplot(131)\n",
    "plt.imshow(signal)\n",
    "plt.title('Signal')\n",
    "plt.axvline(x0,color='cyan',linestyle='--',alpha=0.5)\n",
    "plt.axhline(y0,color='cyan',linestyle='--',alpha=0.5)\n",
    "plt.colorbar(shrink=0.8)\n",
    "plt.subplot(132)\n",
    "plt.title('Noise')\n",
    "plt.imshow(noise)\n",
    "plt.colorbar(shrink=0.8)\n",
    "plt.subplot(133)\n",
    "plt.title('Data')\n",
    "plt.imshow(data)\n",
    "plt.colorbar(shrink=0.8)\n",
    "plt.show()"
   ]
  },
  {
   "cell_type": "code",
   "execution_count": 7,
   "metadata": {},
   "outputs": [
    {
     "name": "stdout",
     "output_type": "stream",
     "text": [
      "Model: Gaussian2D\n",
      "Inputs: ('x', 'y')\n",
      "Outputs: ('z',)\n",
      "Model set size: 1\n",
      "Parameters:\n",
      "        amplitude            x_mean      ...      y_stddev            theta       \n",
      "    ------------------ ----------------- ... ------------------ ------------------\n",
      "    10.135873831058827 8.465429316787192 ... 2.9176574122881647 0.5551161848473934\n",
      "[[ 1.78063946e-02 -4.86156341e-07 -4.44086127e-05 -2.72881288e-03\n",
      "  -2.61287526e-03 -2.57390269e-04]\n",
      " [-4.86156341e-07  1.59299474e-03  8.07535996e-05  2.17560873e-06\n",
      "  -1.61172018e-06  1.39148609e-05]\n",
      " [-4.44086127e-05  8.07535996e-05  1.52586009e-03  9.82409865e-06\n",
      "   2.17515816e-05  8.47957336e-05]\n",
      " [-2.72881288e-03  2.17560873e-06  9.82409865e-06  1.65714450e-03\n",
      "   1.08345411e-05  6.74156519e-05]\n",
      " [-2.61287526e-03 -1.61172018e-06  2.17515816e-05  1.08345411e-05\n",
      "   1.50267833e-03  1.17034890e-04]\n",
      " [-2.57390269e-04  1.39148609e-05  8.47957336e-05  6.74156519e-05\n",
      "   1.17034890e-04  2.64414404e-02]]\n"
     ]
    },
    {
     "ename": "NameError",
     "evalue": "name 'info' is not defined",
     "output_type": "error",
     "traceback": [
      "\u001b[0;31m---------------------------------------------------------------------------\u001b[0m",
      "\u001b[0;31mNameError\u001b[0m                                 Traceback (most recent call last)",
      "\u001b[0;32m<ipython-input-7-e676e689d7e5>\u001b[0m in \u001b[0;36m<module>\u001b[0;34m\u001b[0m\n\u001b[1;32m     10\u001b[0m \u001b[0mprint\u001b[0m\u001b[0;34m(\u001b[0m\u001b[0msource_fitter\u001b[0m\u001b[0;34m.\u001b[0m\u001b[0mfit_info\u001b[0m\u001b[0;34m[\u001b[0m\u001b[0;34m'cov_x'\u001b[0m\u001b[0;34m]\u001b[0m\u001b[0;34m)\u001b[0m\u001b[0;34m\u001b[0m\u001b[0;34m\u001b[0m\u001b[0m\n\u001b[1;32m     11\u001b[0m \u001b[0;31m# This value will be 1 if the fit was determined to be good\u001b[0m\u001b[0;34m\u001b[0m\u001b[0;34m\u001b[0m\u001b[0;34m\u001b[0m\u001b[0m\n\u001b[0;32m---> 12\u001b[0;31m \u001b[0mprint\u001b[0m\u001b[0;34m(\u001b[0m\u001b[0minfo\u001b[0m\u001b[0;34m.\u001b[0m\u001b[0mfit_info\u001b[0m\u001b[0;34m[\u001b[0m\u001b[0;34m'ierr'\u001b[0m\u001b[0;34m]\u001b[0m\u001b[0;34m)\u001b[0m\u001b[0;34m\u001b[0m\u001b[0;34m\u001b[0m\u001b[0m\n\u001b[0m",
      "\u001b[0;31mNameError\u001b[0m: name 'info' is not defined"
     ]
    }
   ],
   "source": [
    "# initialize a fitter\n",
    "source_fitter = fitting.LevMarLSQFitter()\n",
    "# initialize a model.  Put initial guess here, which we will assume is at the center of the image.\n",
    "source_model = models.Gaussian2D(amplitude=data.max(), x_mean=center, y_mean=center, \n",
    "                                 x_stddev=sigma_source, y_stddev=sigma_source, theta=0)\n",
    "# Notice the way that the weights are passed, as 1/standard deviation\n",
    "fitted_source = source_fitter(source_model, x_coord, y_coord, data, weights=np.ones_like(data)/sigma_noise)\n",
    "print(fitted_source)\n",
    "# We want the `cov_x` as the model covariance\n",
    "print(source_fitter.fit_info['cov_x'])\n",
    "# This value will be 1 if the fit was determined to be good\n",
    "print(info.fit_info['ierr'])"
   ]
  },
  {
   "cell_type": "code",
   "execution_count": null,
   "metadata": {},
   "outputs": [],
   "source": [
    "plt.figure(figsize=(16,5))\n",
    "plt.subplot(131)\n",
    "plt.title('Fitted')\n",
    "plt.imshow(fitted_source(x_coord, y_coord))\n",
    "plt.axvline(x0,color='cyan',linestyle='--',alpha=0.5)\n",
    "plt.axhline(y0,color='cyan',linestyle='--',alpha=0.5)\n",
    "plt.colorbar(shrink=0.8)\n",
    "plt.subplot(132)\n",
    "plt.title('Signal - Fitted')\n",
    "plt.imshow(signal - fitted_source(x_coord, y_coord))\n",
    "plt.colorbar(shrink=0.8)\n",
    "plt.subplot(133)\n",
    "plt.title('Data - Fitted')\n",
    "plt.imshow(data - fitted_source(x_coord, y_coord))\n",
    "plt.colorbar(shrink=0.8)\n",
    "plt.show()"
   ]
  },
  {
   "cell_type": "markdown",
   "metadata": {},
   "source": [
    "Notice that astropy also fit for the x and y width and the rotation angle theta.  Let's now assume that we actually know these exactly and *don't* want to fit for them.  We need to provide a constraint on these parameters, that they are *fixed*.  `astropy.modelling` provides a way to do this: https://docs.astropy.org/en/stable/modeling/parameters.html#parameter-constraints"
   ]
  },
  {
   "cell_type": "code",
   "execution_count": null,
   "metadata": {},
   "outputs": [],
   "source": [
    "source_model = models.Gaussian2D(amplitude=data.max(), x_mean=center, y_mean=center, \n",
    "                                 x_stddev=sigma_source, y_stddev=sigma_source, theta=0)\n",
    "\n",
    "source_model.x_stddev.fixed = True\n",
    "source_model.y_stddev.fixed = True\n",
    "source_model.theta.fixed = True\n",
    "\n",
    "# Notice the way that the weights are passed, as 1/standard deviation\n",
    "fitted_source = source_fitter(source_model, x_coord, y_coord, data, weights=np.ones_like(data)/sigma_noise)\n",
    "print(fitted_source)\n",
    "# We want the `cov_x` as the model covariance\n",
    "print(source_fitter.fit_info['cov_x'])\n",
    "# This value will be 1 if the fit was determined to be good\n",
    "print(info.fit_info['ierr'])"
   ]
  },
  {
   "cell_type": "code",
   "execution_count": null,
   "metadata": {},
   "outputs": [],
   "source": [
    "plt.figure(figsize=(16,5))\n",
    "plt.subplot(131)\n",
    "plt.title('Fitted')\n",
    "plt.imshow(fitted_source(x_coord, y_coord))\n",
    "plt.axvline(x0,color='cyan',linestyle='--',alpha=0.5)\n",
    "plt.axhline(y0,color='cyan',linestyle='--',alpha=0.5)\n",
    "plt.colorbar(shrink=0.8)\n",
    "plt.subplot(132)\n",
    "plt.title('Signal - Fitted')\n",
    "plt.imshow(signal - fitted_source(x_coord, y_coord))\n",
    "plt.colorbar(shrink=0.8)\n",
    "plt.subplot(133)\n",
    "plt.title('Data - Fitted')\n",
    "plt.imshow(data - fitted_source(x_coord, y_coord))\n",
    "plt.colorbar(shrink=0.8)\n",
    "plt.show()"
   ]
  },
  {
   "cell_type": "code",
   "execution_count": null,
   "metadata": {},
   "outputs": [],
   "source": [
    "source_model.param_names"
   ]
  },
  {
   "cell_type": "code",
   "execution_count": null,
   "metadata": {
    "scrolled": true
   },
   "outputs": [],
   "source": [
    "source_fitter.fit_info.keys()"
   ]
  },
  {
   "cell_type": "code",
   "execution_count": null,
   "metadata": {},
   "outputs": [],
   "source": [
    "def Cov2Corr(cov):\n",
    "    norm = np.sqrt(np.diag(cov))\n",
    "    norm_outer = np.outer(norm, norm)\n",
    "    corr = cov / norm_outer\n",
    "    return corr"
   ]
  },
  {
   "cell_type": "code",
   "execution_count": null,
   "metadata": {},
   "outputs": [],
   "source": [
    "Cov2Corr(source_fitter.fit_info['cov_x'])"
   ]
  },
  {
   "cell_type": "code",
   "execution_count": null,
   "metadata": {},
   "outputs": [],
   "source": []
  }
 ],
 "metadata": {
  "kernelspec": {
   "display_name": "Python 3",
   "language": "python",
   "name": "python3"
  },
  "language_info": {
   "codemirror_mode": {
    "name": "ipython",
    "version": 3
   },
   "file_extension": ".py",
   "mimetype": "text/x-python",
   "name": "python",
   "nbconvert_exporter": "python",
   "pygments_lexer": "ipython3",
   "version": "3.7.6"
  }
 },
 "nbformat": 4,
 "nbformat_minor": 4
}
